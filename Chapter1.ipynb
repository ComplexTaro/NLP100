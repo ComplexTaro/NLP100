{
 "cells": [
  {
   "cell_type": "markdown",
   "metadata": {},
   "source": [
    "Chapter 1"
   ]
  },
  {
   "cell_type": "code",
   "execution_count": 62,
   "metadata": {},
   "outputs": [
    {
     "name": "stdout",
     "output_type": "stream",
     "text": [
      "desserts\n"
     ]
    }
   ],
   "source": [
    "str1 = 'stressed'\n",
    "print(str1[::-1])"
   ]
  },
  {
   "cell_type": "code",
   "execution_count": 1,
   "metadata": {
    "scrolled": true
   },
   "outputs": [
    {
     "name": "stdout",
     "output_type": "stream",
     "text": [
      "パトカー\n"
     ]
    }
   ],
   "source": [
    "str2 = 'パタトクカシーー'\n",
    "print(str2[0::2])"
   ]
  },
  {
   "cell_type": "code",
   "execution_count": 2,
   "metadata": {},
   "outputs": [
    {
     "name": "stdout",
     "output_type": "stream",
     "text": [
      "パタトクカシーー\n"
     ]
    }
   ],
   "source": [
    "str3 = 'パトカー'\n",
    "str4 = 'タクシー'\n",
    "new_str = []\n",
    "for i in range(4):\n",
    "    new_str.append(str3[i])\n",
    "    new_str.append(str4[i])\n",
    "new_str = ''.join(new_str)\n",
    "print(new_str)"
   ]
  },
  {
   "cell_type": "code",
   "execution_count": 11,
   "metadata": {},
   "outputs": [
    {
     "name": "stdout",
     "output_type": "stream",
     "text": [
      "['Now', 'I', 'need', 'a', 'drink,', 'alcoholic', 'of', 'course,', 'after', 'the', 'heavy', 'lectures', 'involving', 'quantum', 'mechanics.']\n",
      "314159265358979\n"
     ]
    }
   ],
   "source": [
    "str5 = \"Now I need a drink, alcoholic of course, after the heavy lectures involving quantum mechanics.\"\n",
    "\n",
    "words_list = str5.split(\" \")\n",
    "print(words_list)\n",
    "words_num = [str(len(x.strip(\",\" \".\"))) for x in words_list]\n",
    "words_num = ''.join(words_num)\n",
    "print(words_num)"
   ]
  },
  {
   "cell_type": "code",
   "execution_count": 34,
   "metadata": {},
   "outputs": [
    {
     "name": "stdout",
     "output_type": "stream",
     "text": [
      "{'H': 1, 'B': 5, 'C': 6, 'N': 7, 'O': 8, 'F': 9, 'P': 15, 'S': 16, 'K': 19}\n",
      "{'He': 2, 'Li': 3, 'Be': 4, 'Ne': 10, 'Na': 11, 'Mi': 12, 'Al': 13, 'Si': 14, 'Cl': 17}\n"
     ]
    }
   ],
   "source": [
    "str6 = \"Hi He Lied Because Boron Could Not Oxidize Fluorine. New Nations Might Also Sign Peace Security Clause. Arthur King Can.\"\n",
    "list1 = [1,5,6,7,8,9,15,16,19]\n",
    "list2 = [2,3,4,10,11,12,13,14,17,18]\n",
    "list_ele = [x.strip(\".\") for x in str6.split()]\n",
    "dic_ele1,dic_ele2 = {},{}\n",
    "\n",
    "\n",
    "for x in range(len(list1)):\n",
    "    dic_ele1[list_ele[list1[x]-1][0]] = list1[x]\n",
    "    dic_ele2[list_ele[list2[x]-1][0:2]] = list2[x]\n",
    "print(dic_ele1)\n",
    "print(dic_ele2)"
   ]
  },
  {
   "cell_type": "code",
   "execution_count": 100,
   "metadata": {},
   "outputs": [
    {
     "name": "stdout",
     "output_type": "stream",
     "text": [
      "['I', 'am', 'an', 'NLPer'] \n",
      " ['Ia', 'ma', 'nN', 'LP', 'er']\n"
     ]
    }
   ],
   "source": [
    "def n_gram(target,n):\n",
    "    words_list = target.strip(\".\").split()\n",
    "#     print(words_list)\n",
    "    tmp = [''.join(x for x in words_list)]\n",
    "    if(int(len(tmp[0])%n != 0)): #Padding with space\n",
    "       for x in range(int(len(tmp[0])%n)):\n",
    "        tmp[0] = tmp[0] + ' '\n",
    "    i = 0\n",
    "    chars_list = []\n",
    "    for x in range(int(len(tmp[0])/n + 0.5)):\n",
    "        if(i+n>len(tmp[0])): break\n",
    "#          chars_list[x] = tmp[0][x] This causes an error. Use .append\n",
    "        chars_list.append(tmp[0][i:i+n])\n",
    "        i+=n\n",
    "        \n",
    "    return words_list,chars_list\n",
    "str7 = \"I am an NLPer\"\n",
    "WL,CL = n_gram(str7,2)\n",
    "print(WL,\"\\n\",CL)"
   ]
  },
  {
   "cell_type": "code",
   "execution_count": 103,
   "metadata": {},
   "outputs": [
    {
     "name": "stdout",
     "output_type": "stream",
     "text": [
      "{'di', 'pa', 'se', 'ra'} {'h ', 'ap', 'pa', 'ra', 'gr'}\n"
     ]
    }
   ],
   "source": [
    "str8 = \"paraparaparadise\"\n",
    "str9 = \"paragraph\"\n",
    "WL1,CL1 = n_gram(str8,2)\n",
    "WL2,CL2 = n_gram(str9,2)\n",
    "set1 = set(CL1)\n",
    "set2 = set(CL2)\n",
    "print(set1,set2)"
   ]
  },
  {
   "cell_type": "code",
   "execution_count": null,
   "metadata": {},
   "outputs": [],
   "source": []
  }
 ],
 "metadata": {
  "kernelspec": {
   "display_name": "Python 3",
   "language": "python",
   "name": "python3"
  },
  "language_info": {
   "codemirror_mode": {
    "name": "ipython",
    "version": 3
   },
   "file_extension": ".py",
   "mimetype": "text/x-python",
   "name": "python",
   "nbconvert_exporter": "python",
   "pygments_lexer": "ipython3",
   "version": "3.7.3"
  }
 },
 "nbformat": 4,
 "nbformat_minor": 4
}
